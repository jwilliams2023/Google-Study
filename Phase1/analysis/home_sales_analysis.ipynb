{
 "cells": [
  {
   "cell_type": "markdown",
   "metadata": {},
   "source": [
    "# Pearl City, Hawaii Home Sales Analysis (2021-2023)\n",
    "\n",
    "This notebook analyzes home sales data in Pearl City, Hawaii from 2021-2023 to determine:\n",
    "1. Current estimated value of a typical home in the area\n",
    "2. Best time to sell based on seasonal trends\n",
    "3. Which home improvements might yield the best return on investment"
   ]
  },
  {
   "cell_type": "code",
   "execution_count": null,
   "metadata": {},
   "source": [
    "import pandas as pd\n",
    "import numpy as np\n",
    "import matplotlib.pyplot as plt\n",
    "import seaborn as sns\n",
    "from datetime import datetime\n",
    "import os\n",
    "\n",
    "# Set style for plots\n",
    "plt.style.use('ggplot')\n",
    "sns.set_palette(\"Set2\")\n",
    "%matplotlib inline\n",
    "\n",
    "# Make plots larger\n",
    "plt.rcParams['figure.figsize'] = [12, 8]\n",
    "plt.rcParams['figure.dpi'] = 100"
   ]
  },
  {
   "cell_type": "markdown",
   "metadata": {},
   "source": [
    "## Load and Prepare the Dataset"
   ]
  },
  {
   "cell_type": "code",
   "execution_count": null,
   "metadata": {},
   "source": [
    "# Load the dataset\n",
    "data_path = os.path.join(os.path.dirname(os.path.dirname(os.getcwd())), \"data\", \"pearl_city_home_sales.csv\")\n",
    "df = pd.read_csv(data_path)\n",
    "\n",
    "# Convert Sale Date to datetime\n",
    "df['Sale Date'] = pd.to_datetime(df['Sale Date'])\n",
    "df['Month'] = df['Sale Date'].dt.month\n",
    "df['Year'] = df['Sale Date'].dt.year\n",
    "df['Quarter'] = df['Sale Date'].dt.quarter\n",
    "\n",
    "# Display the first few rows\n",
    "df.head()"
   ]
  },
  {
   "cell_type": "code",
   "execution_count": null,
   "metadata": {},
   "source": [
    "# Basic dataset information\n",
    "print(f\"Dataset contains {len(df)} properties\")\n",
    "print(f\"Date range: {df['Sale Date'].min().strftime('%Y-%m-%d')} to {df['Sale Date'].max().strftime('%Y-%m-%d')}\")\n",
    "print(f\"Price range: ${df['Sale Price'].min():,} to ${df['Sale Price'].max():,}\")\n",
    "\n",
    "# Summary statistics\n",
    "df.describe()"
   ]
  },
  {
   "cell_type": "markdown",
   "metadata": {},
   "source": [
    "## 1. Current Estimated Value of a Typical Home in Pearl City"
   ]
  },
  {
   "cell_type": "code",
   "execution_count": null,
   "metadata": {},
   "source": [
    "# Calculate basic statistics\n",
    "mean_price = df['Sale Price'].mean()\n",
    "median_price = df['Sale Price'].median()\n",
    "mean_price_per_sqft = df['Price per Sqft'].mean()\n",
    "\n",
    "print(f\"Mean Sale Price: ${mean_price:,.2f}\")\n",
    "print(f\"Median Sale Price: ${median_price:,.2f}\")\n",
    "print(f\"Mean Price per Square Foot: ${mean_price_per_sqft:.2f}\")"
   ]
  },
  {
   "cell_type": "code",
   "execution_count": null,
   "metadata": {},
   "source": [
    "# Calculate price trends over time\n",
    "yearly_prices = df.groupby('Year')['Sale Price'].agg(['mean', 'median', 'count'])\n",
    "print(\"Yearly Price Trends:\")\n",
    "yearly_prices"
   ]
  },
  {
   "cell_type": "code",
   "execution_count": null,
   "metadata": {},
   "source": [
    "# Calculate price appreciation rate\n",
    "if len(yearly_prices) > 1:\n",
    "    first_year = yearly_prices.index.min()\n",
    "    last_year = yearly_prices.index.max()\n",
    "    price_appreciation = (yearly_prices.loc[last_year, 'mean'] / yearly_prices.loc[first_year, 'mean'] - 1) * 100\n",
    "    annual_appreciation = price_appreciation / (last_year - first_year)\n",
    "    print(f\"Annual Price Appreciation Rate: {annual_appreciation:.2f}%\")\n",
    "\n",
    "# Estimate current value based on the latest data and appreciation rate\n",
    "current_year = 2025  # Current year\n",
    "years_since_last_data = current_year - last_year\n",
    "estimated_current_value = median_price * (1 + annual_appreciation/100) ** years_since_last_data\n",
    "\n",
    "print(f\"Estimated Current Value of a Typical Home (as of {current_year}): ${estimated_current_value:,.2f}\")"
   ]
  },
  {
   "cell_type": "code",
   "execution_count": null,
   "metadata": {},
   "source": [
    "# Plot price distribution\n",
    "plt.figure(figsize=(12, 8))\n",
    "sns.histplot(df['Sale Price'], kde=True, bins=15)\n",
    "plt.title('Distribution of Home Sale Prices in Pearl City (2021-2023)', fontsize=16)\n",
    "plt.xlabel('Sale Price ($)', fontsize=14)\n",
    "plt.ylabel('Frequency', fontsize=14)\n",
    "plt.ticklabel_format(style='plain', axis='x')\n",
    "plt.grid(True)\n",
    "plt.show()"
   ]
  },
  {
   "cell_type": "code",
   "execution_count": null,
   "metadata": {},
   "source": [
    "# Plot price trends over time\n",
    "plt.figure(figsize=(14, 8))\n",
    "df.groupby([df['Sale Date'].dt.year, df['Sale Date'].dt.month])['Sale Price'].mean().plot()\n",
    "plt.title('Average Home Sale Price Trend (2021-2023)', fontsize=16)\n",
    "plt.xlabel('Year-Month', fontsize=14)\n",
    "plt.ylabel('Average Sale Price ($)', fontsize=14)\n",
    "plt.grid(True)\n",
    "plt.tight_layout()\n",
    "plt.show()"
   ]
  },
  {
   "cell_type": "markdown",
   "metadata": {},
   "source": [
    "## 2. Best Time to Sell Based on Seasonal Trends"
   ]
  },
  {
   "cell_type": "code",
   "execution_count": null,
   "metadata": {},
   "source": [
    "# Analyze sales by month\n",
    "monthly_sales = df.groupby('Month').agg({\n",
    "    'Sale Price': ['mean', 'median', 'count'],\n",
    "    'Price per Sqft': 'mean'\n",
    "})\n",
    "\n",
    "month_names = ['Jan', 'Feb', 'Mar', 'Apr', 'May', 'Jun', 'Jul', 'Aug', 'Sep', 'Oct', 'Nov', 'Dec']\n",
    "monthly_sales.index = month_names[:len(monthly_sales)]\n",
    "monthly_sales"
   ]
  },
  {
   "cell_type": "code",
   "execution_count": null,
   "metadata": {},
   "source": [
    "# Find the month with highest average price\n",
    "best_price_month = monthly_sales['Sale Price']['mean'].idxmax()\n",
    "best_price_month_value = monthly_sales['Sale Price']['mean'].max()\n",
    "\n",
    "# Find the month with highest number of sales\n",
    "best_volume_month = monthly_sales['Sale Price']['count'].idxmax()\n",
    "best_volume_month_value = monthly_sales['Sale Price']['count'].max()\n",
    "\n",
    "print(f\"Month with Highest Average Price: {best_price_month} (${best_price_month_value:,.2f})\")\n",
    "print(f\"Month with Highest Sales Volume: {best_volume_month} ({best_volume_month_value} sales)\")"
   ]
  },
  {
   "cell_type": "code",
   "execution_count": null,
   "metadata": {},
   "source": [
    "# Plot monthly price trends\n",
    "plt.figure(figsize=(14, 8))\n",
    "ax = monthly_sales['Sale Price']['mean'].plot(kind='bar', color='skyblue')\n",
    "plt.title('Average Sale Price by Month', fontsize=16)\n",
    "plt.xlabel('Month', fontsize=14)\n",
    "plt.ylabel('Average Sale Price ($)', fontsize=14)\n",
    "plt.grid(axis='y')\n",
    "\n",
    "# Add value labels on top of bars\n",
    "for i, v in enumerate(monthly_sales['Sale Price']['mean']):\n",
    "    ax.text(i, v + 5000, f\"${v:,.0f}\", ha='center', fontsize=10)\n",
    "    \n",
    "plt.tight_layout()\n",
    "plt.show()"
   ]
  },
  {
   "cell_type": "code",
   "execution_count": null,
   "metadata": {},
   "source": [
    "# Plot monthly sales volume\n",
    "plt.figure(figsize=(14, 8))\n",
    "ax = monthly_sales['Sale Price']['count'].plot(kind='bar', color='lightgreen')\n",
    "plt.title('Number of Home Sales by Month', fontsize=16)\n",
    "plt.xlabel('Month', fontsize=14)\n",
    "plt.ylabel('Number of Sales', fontsize=14)\n",
    "plt.grid(axis='y')\n",
    "\n",
    "# Add value labels on top of bars\n",
    "for i, v in enumerate(monthly_sales['Sale Price']['count']):\n",
    "    ax.text(i, v + 0.1, str(v), ha='center', fontsize=10)\n",
    "    \n",
    "plt.tight_layout()\n",
    "plt.show()"
   ]
  },
  {
   "cell_type": "code",
   "execution_count": null,
   "metadata": {},
   "source": [
    "# Analyze by quarter\n",
    "quarterly_sales = df.groupby('Quarter').agg({\n",
    "    'Sale Price': ['mean', 'median', 'count'],\n",
    "    'Price per Sqft': 'mean'\n",
    "})\n",
    "\n",
    "quarterly_sales.index = ['Q1', 'Q2', 'Q3', 'Q4'][:len(quarterly_sales)]\n",
    "quarterly_sales"
   ]
  },
  {
   "cell_type": "code",
   "execution_count": null,
   "metadata": {},
   "source": [
    "# Find the quarter with highest average price\n",
    "best_price_quarter = quarterly_sales['Sale Price']['mean'].idxmax()\n",
    "best_price_quarter_value = quarterly_sales['Sale Price']['mean'].max()\n",
    "\n",
    "print(f\"Quarter with Highest Average Price: {best_price_quarter} (${best_price_quarter_value:,.2f})\")\n",
    "\n",
    "# Plot quarterly price trends\n",
    "plt.figure(figsize=(10, 6))\n",
    "ax = quarterly_sales['Sale Price']['mean'].plot(kind='bar', color='coral')\n",
    "plt.title('Average Sale Price by Quarter', fontsize=16)\n",
    "plt.xlabel('Quarter', fontsize=14)\n",
    "plt.ylabel('Average Sale Price ($)', fontsize=14)\n",
    "plt.grid(axis='y')\n",
    "\n",
    "# Add value labels on top of bars\n",
    "for i, v in enumerate(quarterly_sales['Sale Price']['mean']):\n",
    "    ax.text(i, v + 5000, f\"${v:,.0f}\", ha='center', fontsize=10)\n",
    "    \n",
    "plt.tight_layout()\n",
    "plt.show()"
   ]
  },
  {
   "cell_type": "markdown",
   "metadata": {},
   "source": [
    "## 3. Home Improvements with Best Return on Investment"
   ]
  },
  {
   "cell_type": "code",
   "execution_count": null,
   "metadata": {},
   "source": [
    "# Impact of number of bedrooms\n",
    "bedroom_analysis = df.groupby('Bedrooms').agg({\n",
    "    'Sale Price': ['mean', 'median', 'count'],\n",
    "    'Price per Sqft': 'mean',\n",
    "    'Square Footage': 'mean'\n",
    "}).sort_index()\n",
    "\n",
    "print(\"Impact of Number of Bedrooms:\")\n",
    "bedroom_analysis"
   ]
  },
  {
   "cell_type": "code",
   "execution_count": null,
   "metadata": {},
   "source": [
    "# Plot impact of bedrooms on price\n",
    "plt.figure(figsize=(12, 8))\n",
    "ax = sns.barplot(x=df['Bedrooms'].astype(str), y=df['Sale Price'])\n",
    "plt.title('Impact of Number of Bedrooms on Sale Price', fontsize=16)\n",
    "plt.xlabel('Number of Bedrooms', fontsize=14)\n",
    "plt.ylabel('Average Sale Price ($)', fontsize=14)\n",
    "plt.grid(axis='y')\n",
    "\n",
    "# Add value labels on top of bars\n",
    "for i, p in enumerate(ax.patches):\n",
    "    ax.annotate(f\"${p.get_height():,.0f}\", \n",
    "                (p.get_x() + p.get_width() / 2., p.get_height() + 5000),\n",
    "                ha = 'center', va = 'center',\n",
    "                fontsize=10)\n",
    "    \n",
    "plt.tight_layout()\n",
    "plt.show()"
   ]
  },
  {
   "cell_type": "code",
   "execution_count": null,
   "metadata": {},
   "source": [
    "# Impact of number of bathrooms\n",
    "bathroom_analysis = df.groupby('Bathrooms').agg({\n",
    "    'Sale Price': ['mean', 'median', 'count'],\n",
    "    'Price per Sqft': 'mean',\n",
    "    'Square Footage': 'mean'\n",
    "}).sort_index()\n",
    "\n",
    "print(\"Impact of Number of Bathrooms:\")\n",
    "bathroom_analysis"
   ]
  },
  {
   "cell_type": "code",
   "execution_count": null,
   "metadata": {},
   "source": [
    "# Plot impact of bathrooms on price\n",
    "plt.figure(figsize=(12, 8))\n",
    "ax = sns.barplot(x=df['Bathrooms'].astype(str), y=df['Sale Price'])\n",
    "plt.title('Impact of Number of Bathrooms on Sale Price', fontsize=16)\n",
    "plt.xlabel('Number of Bathrooms', fontsize=14)\n",
    "plt.ylabel('Average Sale Price ($)', fontsize=14)\n",
    "plt.grid(axis='y')\n",
    "\n",
    "# Add value labels on top of bars\n",
    "for i, p in enumerate(ax.patches):\n",
    "    ax.annotate(f\"${p.get_height():,.0f}\", \n",
    "                (p.get_x() + p.get_width() / 2., p.get_height() + 5000),\n",
    "                ha = 'center', va = 'center',\n",
    "                fontsize=10)\n",
    "    \n",
    "plt.tight_layout()\n",
    "plt.show()"
   ]
  },
  {
   "cell_type": "code",
   "execution_count": null,
   "metadata": {},
   "source": [
    "# Impact of having a pool\n",
    "pool_analysis = df.groupby('Has Pool').agg({\n",
    "    'Sale Price': ['mean', 'median', 'count'],\n",
    "    'Price per Sqft': 'mean',\n",
    "    'Square Footage': 'mean'\n",
    "})\n",
    "\n",
    "print(\"Impact of Having a Pool:\")\n",
    "pool_analysis\n",
    "\n",
    "# Calculate the premium for having a pool\n",
    "if len(pool_analysis) > 1:\n",
    "    pool_premium = pool_analysis['Sale Price']['mean'][True] - pool_analysis['Sale Price']['mean'][False]\n",
    "    pool_premium_percentage = (pool_premium / pool_analysis['Sale Price']['mean'][False]) * 100\n",
    "    print(f\"Pool Premium: ${pool_premium:,.2f} ({pool_premium_percentage:.2f}%)\")"
   ]
  },
  {
   "cell_type": "code",
   "execution_count": null,
   "metadata": {},
   "source": [
    "# Plot impact of having a pool\n",
    "plt.figure(figsize=(10, 6))\n",
    "ax = sns.barplot(x=df['Has Pool'].astype(str), y=df['Sale Price'])\n",
    "plt.title('Impact of Having a Pool on Sale Price', fontsize=16)\n",
    "plt.xlabel('Has Pool', fontsize=14)\n",
    "plt.ylabel('Average Sale Price ($)', fontsize=14)\n",
    "plt.grid(axis='y')\n",
    "\n",
    "# Add value labels on top of bars\n",
    "for i, p in enumerate(ax.patches):\n",
    "    ax.annotate(f\"${p.get_height():,.0f}\", \n",
    "                (p.get_x() + p.get_width() / 2., p.get_height() + 5000),\n",
    "                ha = 'center', va = 'center',\n",
    "                fontsize=10)\n",
    "    \n",
    "plt.tight_layout()\n",
    "plt.show()"
   ]
  },
  {
   "cell_type": "code",
   "execution_count": null,
   "metadata": {},
   "source": [
    "# Impact of having a garage\n",
    "garage_analysis = df.groupby('Has Garage').agg({\n",
    "    'Sale Price': ['mean', 'median', 'count'],\n",
    "    'Price per Sqft': 'mean',\n",
    "    'Square Footage': 'mean'\n",
    "})\n",
    "\n",
    "print(\"Impact of Having a Garage:\")\n",
    "garage_analysis\n",
    "\n",
    "# Calculate the premium for having a garage\n",
    "if len(garage_analysis) > 1:\n",
    "    garage_premium = garage_analysis['Sale Price']['mean'][True] - garage_analysis['Sale Price']['mean'][False]\n",
    "    garage_premium_percentage = (garage_premium / garage_analysis['Sale Price']['mean'][False]) * 100\n",
    "    print(f\"Garage Premium: ${garage_premium:,.2f} ({garage_premium_percentage:.2f}%)\")"
   ]
  },
  {
   "cell_type": "code",
   "execution_count": null,
   "metadata": {},
   "source": [
    "# Impact of garage size\n",
    "garage_size_analysis = df.groupby('Garage Size').agg({\n",
    "    'Sale Price': ['mean', 'median', 'count'],\n",
    "    'Price per Sqft': 'mean',\n",
    "    'Square Footage': 'mean'\n",
    "}).sort_index()\n",
    "\n",
    "print(\"Impact of Garage Size:\")\n",
    "garage_size_analysis"
   ]
  },
  {
   "cell_type": "code",
   "execution_count": null,
   "metadata": {},
   "source": [
    "# Impact of property type\n",
    "property_type_analysis = df.groupby('Property Type').agg({\n",
    "    'Sale Price': ['mean', 'median', 'count'],\n",
    "    'Price per Sqft': 'mean',\n",
    "    'Square Footage': 'mean'\n",
    "})\n",
    "\n",
    "print(\"Impact of Property Type:\")\n",
    "property_type_analysis"
   ]
  },
  {
   "cell_type": "code",
   "execution_count": null,
   "metadata": {},
   "source": [
    "# Plot impact of property type\n",
    "plt.figure(figsize=(12, 8))\n",
    "ax = sns.barplot(x=df['Property Type'], y=df['Sale Price'])\n",
    "plt.title('Impact of Property Type on Sale Price', fontsize=16)\n",
    "plt.xlabel('Property Type', fontsize=14)\n",
    "plt.ylabel('Average Sale Price ($)', fontsize=14)\n",
    "plt.grid(axis='y')\n",
    "\n",
    "# Add value labels on top of bars\n",
    "for i, p in enumerate(ax.patches):\n",
    "    ax.annotate(f\"${p.get_height():,.0f}\", \n",
    "                (p.get_x() + p.get_width() / 2., p.get_height() + 5000),\n",
    "                ha = 'center', va = 'center',\n",
    "                fontsize=10)\n",
    "    \n",
    "plt.tight_layout()\n",
    "plt.show()"
   ]
  },
  {
   "cell_type": "markdown",
   "metadata": {},
   "source": [
    "## Calculate ROI for Different Home Improvements"
   ]
  },
  {
   "cell_type": "code",
   "execution_count": null,
   "metadata": {},
   "source": [
    "# Typical costs of improvements (estimated)\n",
    "improvement_costs = {\n",
    "    \"Add Bedroom\": 50000,\n",
    "    \"Add Bathroom\": 30000,\n",
    "    \"Add Pool\": 60000,\n",
    "    \"Add Garage (1-car)\": 25000,\n",
    "    \"Add Garage (2-car)\": 40000,\n",
    "    \"Upgrade to Single Family\": 100000  # If converting from condo/townhouse\n",
    "}\n",
    "\n",
    "roi_values = {}\n",
    "\n",
    "# Calculate ROI for adding a bedroom\n",
    "if len(bedroom_analysis) > 1:\n",
    "    # Find the most common bedroom count\n",
    "    most_common_bedroom = df['Bedrooms'].mode()[0]\n",
    "    if most_common_bedroom < max(df['Bedrooms']):\n",
    "        bedroom_premium = bedroom_analysis['Sale Price']['mean'][most_common_bedroom + 1] - bedroom_analysis['Sale Price']['mean'][most_common_bedroom]\n",
    "        bedroom_roi = (bedroom_premium / improvement_costs[\"Add Bedroom\"]) * 100\n",
    "        print(f\"ROI for Adding a Bedroom (from {most_common_bedroom} to {most_common_bedroom + 1}): {bedroom_roi:.2f}%\")\n",
    "        roi_values[\"Adding a Bedroom\"] = bedroom_roi\n",
    "\n",
    "# Calculate ROI for adding a bathroom\n",
    "if len(bathroom_analysis) > 1:\n",
    "    # Find the most common bathroom count\n",
    "    most_common_bathroom = df['Bathrooms'].mode()[0]\n",
    "    next_bathroom = sorted(df['Bathrooms'].unique())[list(sorted(df['Bathrooms'].unique())).index(most_common_bathroom) + 1] if list(sorted(df['Bathrooms'].unique())).index(most_common_bathroom) < len(df['Bathrooms'].unique()) - 1 else most_common_bathroom\n",
    "    if most_common_bathroom < max(df['Bathrooms']):\n",
    "        bathroom_premium = bathroom_analysis['Sale Price']['mean'][next_bathroom] - bathroom_analysis['Sale Price']['mean'][most_common_bathroom]\n",
    "        bathroom_roi = (bathroom_premium / improvement_costs[\"Add Bathroom\"]) * 100\n",
    "        print(f\"ROI for Adding a Bathroom (from {most_common_bathroom} to {next_bathroom}): {bathroom_roi:.2f}%\")\n",
    "        roi_values[\"Adding a Bathroom\"] = bathroom_roi\n",
    "\n",
    "# Calculate ROI for adding a pool\n",
    "if len(pool_analysis) > 1:\n",
    "    pool_roi = (pool_premium / improvement_costs[\"Add Pool\"]) * 100\n",
    "    print(f\"ROI for Adding a Pool: {pool_roi:.2f}%\")\n",
    "    roi_values[\"Adding a Pool\"] = pool_roi\n",
    "\n",
    "# Calculate ROI for adding a garage\n",
    "if len(garage_analysis) > 1:\n",
    "    garage_roi = (garage_premium / improvement_costs[\"Add Garage (1-car)\"]) * 100\n",
    "    print(f\"ROI for Adding a 1-car Garage: {garage_roi:.2f}%\")\n",
    "    roi_values[\"Adding a Garage\"] = garage_roi\n",
    "\n",
    "# Calculate ROI for upgrading garage size\n",
    "if 1 in garage_size_analysis.index and 2 in garage_size_analysis.index:\n",
    "    garage_upgrade_premium = garage_size_analysis['Sale Price']['mean'][2] - garage_size_analysis['Sale Price']['mean'][1]\n",
    "    garage_upgrade_cost = improvement_costs[\"Add Garage (2-car)\"] - improvement_costs[\"Add Garage (1-car)\"]\n",
    "    garage_upgrade_roi = (garage_upgrade_premium / garage_upgrade_cost) * 100\n",
    "    print(f\"ROI for Upgrading from 1-car to 2-car Garage: {garage_upgrade_roi:.2f}%\")\n",
    "    roi_values[\"Upgrading Garage\"] = garage_upgrade_roi\n",
    "\n",
    "# Calculate ROI for property type upgrade if applicable\n",
    "if 'Condo' in property_type_analysis.index and 'Single Family' in property_type_analysis.index:\n",
    "    property_upgrade_premium = property_type_analysis['Sale Price']['mean']['Single Family'] - property_type_analysis['Sale Price']['mean']['Condo']\n",
    "    property_upgrade_roi = (property_upgrade_premium / improvement_costs[\"Upgrade to Single Family\"]) * 100\n",
    "    print(f\"ROI for Upgrading from Condo to Single Family: {property_upgrade_roi:.2f}%\")\n",
    "    roi_values[\"Upgrading Property Type\"] = property_upgrade_roi"
   ]
  },
  {
   "cell_type": "code",
   "execution_count": null,
   "metadata": {},
   "source": [
    "# Plot ROI comparison\n",
    "if roi_values:\n",
    "    plt.figure(figsize=(14, 8))\n",
    "    roi_df = pd.DataFrame(list(roi_values.items()), columns=['Improvement', 'ROI'])\n",
    "    roi_df = roi_df.sort_values('ROI', ascending=False)\n",
    "    \n",
    "    ax = sns.barplot(x='Improvement', y='ROI', data=roi_df, palette='viridis')\n",
    "    plt.title('Return on Investment (ROI) for Different Home Improvements', fontsize=16)\n",
    "    plt.xlabel('Home Improvement', fontsize=14)\n",
    "    plt.ylabel('ROI (%)', fontsize=14)\n",
    "    plt.grid(axis='y')\n",
    "    \n",
    "    # Add value labels on top of bars\n",
    "    for i, p in enumerate(ax.patches):\n",
    "        ax.annotate(f\"{p.get_height():.1f}%\", \n",
    "                    (p.get_x() + p.get_width() / 2., p.get_height() + 2),\n",
    "                    ha = 'center', va = 'center',\n",
    "                    fontsize=10)\n",
    "        \n",
    "    plt.tight_layout()\n",
    "    plt.show()"
   ]
  },
  {
   "cell_type": "markdown",
   "metadata": {},
   "source": [
    "## Summary of Findings"
   ]
  },
  {
   "cell_type": "code",
   "execution_count": null,
   "metadata": {},
   "source": [
    "print(\"SUMMARY OF FINDINGS\")\n",
    "print(\"=\" * 60)\n",
    "print(f\"1. Current Estimated Value: ${estimated_current_value:,.2f}\")\n",
    "print(f\"2. Best Time to Sell: {best_price_month} (highest price) or {best_volume_month} (highest volume)\")\n",
    "\n",
    "# Determine best ROI improvements\n",
    "if roi_values:\n",
    "    best_improvement = max(roi_values, key=roi_values.get)\n",
    "    print(f\"3. Best Home Improvement for ROI: {best_improvement} ({roi_values[best_improvement]:.2f}%)\")\n",
    "else:\n",
    "    print(\"3. Insufficient data to determine best home improvement for ROI\")"
   ]
  }
 ],
 "metadata": {
  "kernelspec": {
   "display_name": "Python 3",
   "language": "python",
   "name": "python3"
  },
  "language_info": {
   "codemirror_mode": {
    "name": "ipython",
    "version": 3
   },
   "file_extension": ".py",
   "mimetype": "text/x-python",
   "name": "python",
   "nbconvert_exporter": "python",
   "pygments_lexer": "ipython3",
   "version": "3.12.0"
  }
 },
 "nbformat": 4,
 "nbformat_minor": 4
}